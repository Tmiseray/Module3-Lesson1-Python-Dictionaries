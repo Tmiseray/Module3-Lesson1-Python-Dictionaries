{
 "cells": [
  {
   "cell_type": "code",
   "execution_count": null,
   "metadata": {},
   "outputs": [],
   "source": [
    "# 2. Python Programming Challenges for Customer Service Data Handling\n",
    "\n",
    "# Task 1: Customer Service Ticket Tracker Demonstrate your ability to use nested collections and loops by creating a system to track customer service tickets.\n",
    "\n",
    "# Problem Statement: Develop a program that:\n",
    "\n",
    "# Tracks customer service tickets, each with a unique ID, customer name, issue description, and status (open/closed).\n",
    "# Implement functions to:\n",
    "    # Open a new service ticket.\n",
    "    # Update the status of an existing ticket.\n",
    "    # Display all tickets or filter by status.\n",
    "# Initialize with some sample tickets and include functionality for additional ticket entry.\n",
    "\n",
    "# Example ticket structure:\n",
    "\n",
    "# service_tickets = {\n",
    "#     \"Ticket001\": {\"Customer\": \"Alice\", \"Issue\": \"Login problem\", \"Status\": \"open\"},\n",
    "#     \"Ticket002\": {\"Customer\": \"Bob\", \"Issue\": \"Payment issue\", \"Status\": \"closed\"}\n",
    "# }\n"
   ]
  },
  {
   "cell_type": "code",
   "execution_count": null,
   "metadata": {},
   "outputs": [],
   "source": []
  }
 ],
 "metadata": {
  "language_info": {
   "name": "python"
  }
 },
 "nbformat": 4,
 "nbformat_minor": 2
}
