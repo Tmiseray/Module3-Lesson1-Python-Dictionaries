{
 "cells": [
  {
   "cell_type": "code",
   "execution_count": null,
   "metadata": {},
   "outputs": [],
   "source": [
    "# 1. Real-World Python Dictionary Applications\n",
    "\n",
    "# Objective: The aim of this assignment is to reinforce your understanding and application of Python dictionaries, nested collections, and dictionary methods.\n",
    "\n",
    "# Task 1: Restaurant Menu Update You are given an initial structure of a restaurant menu stored in a nested dictionary. Your task is to update this menu based on given instructions\n",
    "\n",
    "# Problem Statement: Given the initial menu:\n",
    "\n",
    "# restaurant_menu = {\n",
    "#     \"Starters\": {\"Soup\": 5.99, \"Bruschetta\": 6.50},\n",
    "#     \"Main Course\": {\"Steak\": 15.99, \"Salmon\": 13.99},\n",
    "#     \"Desserts\": {\"Cake\": 4.99, \"Ice Cream\": 3.99}\n",
    "# }\n",
    "# - Add a new category called \"Beverages\" with at least two items.\n",
    "\n",
    "# - Update the price of \"Steak\" to 17.99.\n",
    "\n",
    "# - Remove \"Bruschetta\" from \"Starters\". "
   ]
  },
  {
   "cell_type": "code",
   "execution_count": null,
   "metadata": {},
   "outputs": [],
   "source": []
  }
 ],
 "metadata": {
  "language_info": {
   "name": "python"
  }
 },
 "nbformat": 4,
 "nbformat_minor": 2
}
