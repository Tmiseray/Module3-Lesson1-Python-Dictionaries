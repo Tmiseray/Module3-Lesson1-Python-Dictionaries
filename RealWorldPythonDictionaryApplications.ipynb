{
 "cells": [
  {
   "cell_type": "code",
   "execution_count": null,
   "metadata": {},
   "outputs": [],
   "source": [
    "# 1. Real-World Python Dictionary Applications\n",
    "\n",
    "# Objective: The aim of this assignment is to reinforce your understanding and application of Python dictionaries, nested collections, and dictionary methods.\n",
    "\n",
    "# Task 1: Restaurant Menu Update \n",
    "# You are given an initial structure of a restaurant menu stored in a nested dictionary. Your task is to update this menu based on given instructions\n",
    "\n",
    "# Problem Statement: Given the initial menu:\n",
    "\n",
    "# restaurant_menu = {\n",
    "#     \"Starters\": {\"Soup\": 5.99, \"Bruschetta\": 6.50},\n",
    "#     \"Main Course\": {\"Steak\": 15.99, \"Salmon\": 13.99},\n",
    "#     \"Desserts\": {\"Cake\": 4.99, \"Ice Cream\": 3.99}\n",
    "# }\n",
    "# - Add a new category called \"Beverages\" with at least two items.\n",
    "\n",
    "# - Update the price of \"Steak\" to 17.99.\n",
    "\n",
    "# - Remove \"Bruschetta\" from \"Starters\". "
   ]
  },
  {
   "cell_type": "code",
   "execution_count": 24,
   "metadata": {},
   "outputs": [
    {
     "name": "stdout",
     "output_type": "stream",
     "text": [
      "{'Starters': {'Soup': 5.99, 'Bruschetta': 6.5}, 'Main Course': {'Steak': 15.99, 'Salmon': 13.99}, 'Desserts': {'Cake': 4.99, 'Ice Cream': 3.99}, 'Beverages': {'Coke Zero Vanilla': 1.99, 'Caramel Macchiato': 2.99, 'Water': 0}}\n",
      "{'Starters': {'Soup': 5.99, 'Bruschetta': 6.5}, 'Main Course': {'Steak': 17.99, 'Salmon': 13.99}, 'Desserts': {'Cake': 4.99, 'Ice Cream': 3.99}, 'Beverages': {'Coke Zero Vanilla': 1.99, 'Caramel Macchiato': 2.99, 'Water': 0}}\n",
      "{'Starters': {'Soup': 5.99}, 'Main Course': {'Steak': 17.99, 'Salmon': 13.99}, 'Desserts': {'Cake': 4.99, 'Ice Cream': 3.99}, 'Beverages': {'Coke Zero Vanilla': 1.99, 'Caramel Macchiato': 2.99, 'Water': 0}}\n"
     ]
    }
   ],
   "source": [
    "restaurant_menu = {\n",
    "    \"Starters\": {\"Soup\": 5.99, \"Bruschetta\": 6.50},\n",
    "    \"Main Course\": {\"Steak\": 15.99, \"Salmon\": 13.99},\n",
    "    \"Desserts\": {\"Cake\": 4.99, \"Ice Cream\": 3.99}\n",
    "}\n",
    "\n",
    "restaurant_menu[\"Beverages\"] = {\"Coke Zero Vanilla\": 1.99, \"Caramel Macchiato\": 2.99, \"Water\": 0}\n",
    "print(restaurant_menu)\n",
    "# Another variation of above:\n",
    "# new_category = {\"Beverages\": {\"Coke Zero Vanilla\": 1.99, \"Caramel Macchiato\": 2.99, \"Water\": 0}}\n",
    "# restaurant_menu.update(new_category)\n",
    "\n",
    "steak_price = {\"Steak\": 17.99}\n",
    "restaurant_menu[\"Main Course\"].update(steak_price)\n",
    "print(restaurant_menu)\n",
    "# Another variation of above:\n",
    "# restaurant_menu[\"Main Course\"][\"Steak\"] = 17.99\n",
    "# print(restaurant_menu)\n",
    "\n",
    "remove_bruschetta = restaurant_menu[\"Starters\"].pop(\"Bruschetta\")\n",
    "print(restaurant_menu)\n",
    "# Another variation of above:\n",
    "# del restaurant_menu[\"Starters\"][\"Bruschetta\"]\n",
    "# print(restaurant_menu)"
   ]
  },
  {
   "cell_type": "code",
   "execution_count": null,
   "metadata": {},
   "outputs": [],
   "source": []
  }
 ],
 "metadata": {
  "kernelspec": {
   "display_name": "Python 3",
   "language": "python",
   "name": "python3"
  },
  "language_info": {
   "codemirror_mode": {
    "name": "ipython",
    "version": 3
   },
   "file_extension": ".py",
   "mimetype": "text/x-python",
   "name": "python",
   "nbconvert_exporter": "python",
   "pygments_lexer": "ipython3",
   "version": "3.12.4"
  }
 },
 "nbformat": 4,
 "nbformat_minor": 2
}
